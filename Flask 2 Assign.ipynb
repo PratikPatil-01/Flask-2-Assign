{
 "cells": [
  {
   "cell_type": "markdown",
   "id": "c824e383-8ce4-4444-a2ba-a24a40a61008",
   "metadata": {},
   "source": [
    "#1"
   ]
  },
  {
   "cell_type": "markdown",
   "id": "10ef43fc-af7e-419b-8754-9ec110260b30",
   "metadata": {},
   "source": [
    "The HTTP POST method is used to send data to a server to create or update a resource, the HTTP GET method is used to request data from a specified resource and should have no other effect. HTTP POST request provides additional data from the client to the server message body."
   ]
  },
  {
   "cell_type": "markdown",
   "id": "831c1aa8-4f59-4548-adfe-3da2afd4c977",
   "metadata": {},
   "source": [
    "#2"
   ]
  },
  {
   "cell_type": "markdown",
   "id": "54bfd015-7f81-4dc2-9118-8b641ed77bec",
   "metadata": {},
   "source": [
    "The Request, in Flask, is an object that contains all the data sent from the Client to Server. This data can be recovered using the GET/POST Methods."
   ]
  },
  {
   "cell_type": "markdown",
   "id": "2483b6a1-598d-4b74-a1c2-69e7136d1bfc",
   "metadata": {},
   "source": [
    "#3"
   ]
  },
  {
   "cell_type": "markdown",
   "id": "889b7458-01d1-4436-9f7d-95f6d192e4fd",
   "metadata": {},
   "source": [
    "When called, it returns a response object and redirects the user to another target location with specified status code. location parameter is the URL where response should be redirected."
   ]
  },
  {
   "cell_type": "markdown",
   "id": "30ef6be5-c342-4147-9287-d0300abab1ab",
   "metadata": {},
   "source": [
    "#4"
   ]
  },
  {
   "cell_type": "raw",
   "id": "92848576-b22b-4501-a1de-e47164877609",
   "metadata": {},
   "source": [
    "a) Templates are files that contain static data as well as placeholders for dynamic data. A template is rendered with specific data to produce a final document. Flask uses the Jinja template library to render templates. In your application, you will use templates to render HTML which will display in the user's browser.\n",
    "b) render_template is a Flask function from the flask. templating package. render_template is used to generate output from a template file based on the Jinja2 engine that is found in the application's templates folder. Note that render_template is typically imported directly from the flask package instead of from flask. "
   ]
  },
  {
   "cell_type": "code",
   "execution_count": null,
   "id": "7ced7386-b9c8-4290-a790-df6263009900",
   "metadata": {},
   "outputs": [],
   "source": []
  }
 ],
 "metadata": {
  "kernelspec": {
   "display_name": "Python 3 (ipykernel)",
   "language": "python",
   "name": "python3"
  },
  "language_info": {
   "codemirror_mode": {
    "name": "ipython",
    "version": 3
   },
   "file_extension": ".py",
   "mimetype": "text/x-python",
   "name": "python",
   "nbconvert_exporter": "python",
   "pygments_lexer": "ipython3",
   "version": "3.10.8"
  }
 },
 "nbformat": 4,
 "nbformat_minor": 5
}
